{
  "nbformat": 4,
  "nbformat_minor": 0,
  "metadata": {
    "colab": {
      "name": "USaccidentsanalysis.ipynb",
      "provenance": [],
      "collapsed_sections": [],
      "authorship_tag": "ABX9TyOjVIqmNM4R2Ll2Vvyx2U9n",
      "include_colab_link": true
    },
    "kernelspec": {
      "name": "python3",
      "display_name": "Python 3"
    },
    "language_info": {
      "name": "python"
    }
  },
  "cells": [
    {
      "cell_type": "markdown",
      "metadata": {
        "id": "view-in-github",
        "colab_type": "text"
      },
      "source": [
        "<a href=\"https://colab.research.google.com/github/victorialarrazolo/USaccidentsanaysis/blob/main/USaccidentsanalysis.ipynb\" target=\"_parent\"><img src=\"https://colab.research.google.com/assets/colab-badge.svg\" alt=\"Open In Colab\"/></a>"
      ]
    },
    {
      "cell_type": "markdown",
      "source": [
        "# Accidents in the United States Analysis \n"
      ],
      "metadata": {
        "id": "Oq2k_wAhv0ls"
      }
    },
    {
      "cell_type": "code",
      "source": [
        "pip install -U matplotlib"
      ],
      "metadata": {
        "colab": {
          "base_uri": "https://localhost:8080/"
        },
        "id": "bXFXXBty5tE2",
        "outputId": "34f25ef2-8072-499c-fb9b-eb5f39a252aa"
      },
      "execution_count": 1,
      "outputs": [
        {
          "output_type": "stream",
          "name": "stdout",
          "text": [
            "Requirement already satisfied: matplotlib in /usr/local/lib/python3.7/dist-packages (3.5.1)\n",
            "Requirement already satisfied: numpy>=1.17 in /usr/local/lib/python3.7/dist-packages (from matplotlib) (1.21.5)\n",
            "Requirement already satisfied: python-dateutil>=2.7 in /usr/local/lib/python3.7/dist-packages (from matplotlib) (2.8.2)\n",
            "Requirement already satisfied: pillow>=6.2.0 in /usr/local/lib/python3.7/dist-packages (from matplotlib) (7.1.2)\n",
            "Requirement already satisfied: pyparsing>=2.2.1 in /usr/local/lib/python3.7/dist-packages (from matplotlib) (3.0.7)\n",
            "Requirement already satisfied: kiwisolver>=1.0.1 in /usr/local/lib/python3.7/dist-packages (from matplotlib) (1.3.2)\n",
            "Requirement already satisfied: cycler>=0.10 in /usr/local/lib/python3.7/dist-packages (from matplotlib) (0.11.0)\n",
            "Requirement already satisfied: packaging>=20.0 in /usr/local/lib/python3.7/dist-packages (from matplotlib) (21.3)\n",
            "Requirement already satisfied: fonttools>=4.22.0 in /usr/local/lib/python3.7/dist-packages (from matplotlib) (4.29.1)\n",
            "Requirement already satisfied: six>=1.5 in /usr/local/lib/python3.7/dist-packages (from python-dateutil>=2.7->matplotlib) (1.15.0)\n"
          ]
        }
      ]
    },
    {
      "cell_type": "code",
      "source": [
        "pip install opendatasets"
      ],
      "metadata": {
        "colab": {
          "base_uri": "https://localhost:8080/"
        },
        "id": "ZECJliVb2xDn",
        "outputId": "f55fefea-0653-4027-cecb-28f25e11a5f1"
      },
      "execution_count": 2,
      "outputs": [
        {
          "output_type": "stream",
          "name": "stdout",
          "text": [
            "Requirement already satisfied: opendatasets in /usr/local/lib/python3.7/dist-packages (0.1.20)\n",
            "Requirement already satisfied: click in /usr/local/lib/python3.7/dist-packages (from opendatasets) (7.1.2)\n",
            "Requirement already satisfied: kaggle in /usr/local/lib/python3.7/dist-packages (from opendatasets) (1.5.12)\n",
            "Requirement already satisfied: tqdm in /usr/local/lib/python3.7/dist-packages (from opendatasets) (4.62.3)\n",
            "Requirement already satisfied: six>=1.10 in /usr/local/lib/python3.7/dist-packages (from kaggle->opendatasets) (1.15.0)\n",
            "Requirement already satisfied: python-dateutil in /usr/local/lib/python3.7/dist-packages (from kaggle->opendatasets) (2.8.2)\n",
            "Requirement already satisfied: urllib3 in /usr/local/lib/python3.7/dist-packages (from kaggle->opendatasets) (1.24.3)\n",
            "Requirement already satisfied: python-slugify in /usr/local/lib/python3.7/dist-packages (from kaggle->opendatasets) (5.0.2)\n",
            "Requirement already satisfied: requests in /usr/local/lib/python3.7/dist-packages (from kaggle->opendatasets) (2.23.0)\n",
            "Requirement already satisfied: certifi in /usr/local/lib/python3.7/dist-packages (from kaggle->opendatasets) (2021.10.8)\n",
            "Requirement already satisfied: text-unidecode>=1.3 in /usr/local/lib/python3.7/dist-packages (from python-slugify->kaggle->opendatasets) (1.3)\n",
            "Requirement already satisfied: chardet<4,>=3.0.2 in /usr/local/lib/python3.7/dist-packages (from requests->kaggle->opendatasets) (3.0.4)\n",
            "Requirement already satisfied: idna<3,>=2.5 in /usr/local/lib/python3.7/dist-packages (from requests->kaggle->opendatasets) (2.10)\n"
          ]
        }
      ]
    },
    {
      "cell_type": "code",
      "source": [
        "pip install geoplot"
      ],
      "metadata": {
        "colab": {
          "base_uri": "https://localhost:8080/"
        },
        "id": "xWuM9aG1yqwi",
        "outputId": "5ee9c005-8207-4d39-cb77-7ef5d40ca71e"
      },
      "execution_count": 3,
      "outputs": [
        {
          "output_type": "stream",
          "name": "stdout",
          "text": [
            "Requirement already satisfied: geoplot in /usr/local/lib/python3.7/dist-packages (0.4.4)\n",
            "Requirement already satisfied: geopandas>=0.9.0 in /usr/local/lib/python3.7/dist-packages (from geoplot) (0.10.2)\n",
            "Requirement already satisfied: pandas in /usr/local/lib/python3.7/dist-packages (from geoplot) (1.3.5)\n",
            "Requirement already satisfied: contextily>=1.0.0 in /usr/local/lib/python3.7/dist-packages (from geoplot) (1.2.0)\n",
            "Requirement already satisfied: mapclassify>=2.1 in /usr/local/lib/python3.7/dist-packages (from geoplot) (2.4.3)\n",
            "Requirement already satisfied: seaborn in /usr/local/lib/python3.7/dist-packages (from geoplot) (0.11.2)\n",
            "Requirement already satisfied: matplotlib in /usr/local/lib/python3.7/dist-packages (from geoplot) (3.5.1)\n",
            "Requirement already satisfied: cartopy in /usr/local/lib/python3.7/dist-packages (from geoplot) (0.19.0.post1)\n",
            "Requirement already satisfied: rasterio in /usr/local/lib/python3.7/dist-packages (from contextily>=1.0.0->geoplot) (1.2.10)\n",
            "Requirement already satisfied: xyzservices in /usr/local/lib/python3.7/dist-packages (from contextily>=1.0.0->geoplot) (2022.2.0)\n",
            "Requirement already satisfied: mercantile in /usr/local/lib/python3.7/dist-packages (from contextily>=1.0.0->geoplot) (1.2.1)\n",
            "Requirement already satisfied: geopy in /usr/local/lib/python3.7/dist-packages (from contextily>=1.0.0->geoplot) (1.17.0)\n",
            "Requirement already satisfied: requests in /usr/local/lib/python3.7/dist-packages (from contextily>=1.0.0->geoplot) (2.23.0)\n",
            "Requirement already satisfied: joblib in /usr/local/lib/python3.7/dist-packages (from contextily>=1.0.0->geoplot) (1.1.0)\n",
            "Requirement already satisfied: pillow in /usr/local/lib/python3.7/dist-packages (from contextily>=1.0.0->geoplot) (7.1.2)\n",
            "Requirement already satisfied: shapely>=1.6 in /usr/local/lib/python3.7/dist-packages (from geopandas>=0.9.0->geoplot) (1.8.0)\n",
            "Requirement already satisfied: fiona>=1.8 in /usr/local/lib/python3.7/dist-packages (from geopandas>=0.9.0->geoplot) (1.8.21)\n",
            "Requirement already satisfied: pyproj>=2.2.0 in /usr/local/lib/python3.7/dist-packages (from geopandas>=0.9.0->geoplot) (3.2.1)\n",
            "Requirement already satisfied: six>=1.7 in /usr/local/lib/python3.7/dist-packages (from fiona>=1.8->geopandas>=0.9.0->geoplot) (1.15.0)\n",
            "Requirement already satisfied: attrs>=17 in /usr/local/lib/python3.7/dist-packages (from fiona>=1.8->geopandas>=0.9.0->geoplot) (21.4.0)\n",
            "Requirement already satisfied: munch in /usr/local/lib/python3.7/dist-packages (from fiona>=1.8->geopandas>=0.9.0->geoplot) (2.5.0)\n",
            "Requirement already satisfied: certifi in /usr/local/lib/python3.7/dist-packages (from fiona>=1.8->geopandas>=0.9.0->geoplot) (2021.10.8)\n",
            "Requirement already satisfied: click>=4.0 in /usr/local/lib/python3.7/dist-packages (from fiona>=1.8->geopandas>=0.9.0->geoplot) (7.1.2)\n",
            "Requirement already satisfied: click-plugins>=1.0 in /usr/local/lib/python3.7/dist-packages (from fiona>=1.8->geopandas>=0.9.0->geoplot) (1.1.1)\n",
            "Requirement already satisfied: cligj>=0.5 in /usr/local/lib/python3.7/dist-packages (from fiona>=1.8->geopandas>=0.9.0->geoplot) (0.7.2)\n",
            "Requirement already satisfied: setuptools in /usr/local/lib/python3.7/dist-packages (from fiona>=1.8->geopandas>=0.9.0->geoplot) (57.4.0)\n",
            "Requirement already satisfied: numpy>=1.3 in /usr/local/lib/python3.7/dist-packages (from mapclassify>=2.1->geoplot) (1.21.5)\n",
            "Requirement already satisfied: scikit-learn in /usr/local/lib/python3.7/dist-packages (from mapclassify>=2.1->geoplot) (1.0.2)\n",
            "Requirement already satisfied: scipy>=1.0 in /usr/local/lib/python3.7/dist-packages (from mapclassify>=2.1->geoplot) (1.4.1)\n",
            "Requirement already satisfied: networkx in /usr/local/lib/python3.7/dist-packages (from mapclassify>=2.1->geoplot) (2.6.3)\n",
            "Requirement already satisfied: python-dateutil>=2.7.3 in /usr/local/lib/python3.7/dist-packages (from pandas->geoplot) (2.8.2)\n",
            "Requirement already satisfied: pytz>=2017.3 in /usr/local/lib/python3.7/dist-packages (from pandas->geoplot) (2018.9)\n",
            "Requirement already satisfied: pyshp>=2 in /usr/local/lib/python3.7/dist-packages (from cartopy->geoplot) (2.2.0)\n",
            "Requirement already satisfied: geographiclib<2,>=1.49 in /usr/local/lib/python3.7/dist-packages (from geopy->contextily>=1.0.0->geoplot) (1.52)\n",
            "Requirement already satisfied: fonttools>=4.22.0 in /usr/local/lib/python3.7/dist-packages (from matplotlib->geoplot) (4.29.1)\n",
            "Requirement already satisfied: pyparsing>=2.2.1 in /usr/local/lib/python3.7/dist-packages (from matplotlib->geoplot) (3.0.7)\n",
            "Requirement already satisfied: cycler>=0.10 in /usr/local/lib/python3.7/dist-packages (from matplotlib->geoplot) (0.11.0)\n",
            "Requirement already satisfied: kiwisolver>=1.0.1 in /usr/local/lib/python3.7/dist-packages (from matplotlib->geoplot) (1.3.2)\n",
            "Requirement already satisfied: packaging>=20.0 in /usr/local/lib/python3.7/dist-packages (from matplotlib->geoplot) (21.3)\n",
            "Requirement already satisfied: affine in /usr/local/lib/python3.7/dist-packages (from rasterio->contextily>=1.0.0->geoplot) (2.3.0)\n",
            "Requirement already satisfied: snuggs>=1.4.1 in /usr/local/lib/python3.7/dist-packages (from rasterio->contextily>=1.0.0->geoplot) (1.4.7)\n",
            "Requirement already satisfied: urllib3!=1.25.0,!=1.25.1,<1.26,>=1.21.1 in /usr/local/lib/python3.7/dist-packages (from requests->contextily>=1.0.0->geoplot) (1.24.3)\n",
            "Requirement already satisfied: idna<3,>=2.5 in /usr/local/lib/python3.7/dist-packages (from requests->contextily>=1.0.0->geoplot) (2.10)\n",
            "Requirement already satisfied: chardet<4,>=3.0.2 in /usr/local/lib/python3.7/dist-packages (from requests->contextily>=1.0.0->geoplot) (3.0.4)\n",
            "Requirement already satisfied: threadpoolctl>=2.0.0 in /usr/local/lib/python3.7/dist-packages (from scikit-learn->mapclassify>=2.1->geoplot) (3.1.0)\n"
          ]
        }
      ]
    },
    {
      "cell_type": "code",
      "source": [
        "pip install fuzzywuzzy"
      ],
      "metadata": {
        "colab": {
          "base_uri": "https://localhost:8080/"
        },
        "id": "I2ZGcTm4yaF9",
        "outputId": "38fa80b0-919e-4cff-a060-0ffc8d99b4d3"
      },
      "execution_count": 4,
      "outputs": [
        {
          "output_type": "stream",
          "name": "stdout",
          "text": [
            "Requirement already satisfied: fuzzywuzzy in /usr/local/lib/python3.7/dist-packages (0.18.0)\n"
          ]
        }
      ]
    },
    {
      "cell_type": "code",
      "source": [
        "pip install python-Levenshtein==0.12.0"
      ],
      "metadata": {
        "colab": {
          "base_uri": "https://localhost:8080/"
        },
        "id": "PgCeI_xIyNoL",
        "outputId": "e3e59bab-5488-4911-e320-507a961610d3"
      },
      "execution_count": 5,
      "outputs": [
        {
          "output_type": "stream",
          "name": "stdout",
          "text": [
            "Requirement already satisfied: python-Levenshtein==0.12.0 in /usr/local/lib/python3.7/dist-packages (0.12.0)\n",
            "Requirement already satisfied: setuptools in /usr/local/lib/python3.7/dist-packages (from python-Levenshtein==0.12.0) (57.4.0)\n"
          ]
        }
      ]
    },
    {
      "cell_type": "code",
      "source": [
        "pip install geopandas"
      ],
      "metadata": {
        "colab": {
          "base_uri": "https://localhost:8080/"
        },
        "id": "ByYRy8BUx7-B",
        "outputId": "bd41fe35-862c-4d05-a315-08f9605f4349"
      },
      "execution_count": 6,
      "outputs": [
        {
          "output_type": "stream",
          "name": "stdout",
          "text": [
            "Requirement already satisfied: geopandas in /usr/local/lib/python3.7/dist-packages (0.10.2)\n",
            "Requirement already satisfied: shapely>=1.6 in /usr/local/lib/python3.7/dist-packages (from geopandas) (1.8.0)\n",
            "Requirement already satisfied: pandas>=0.25.0 in /usr/local/lib/python3.7/dist-packages (from geopandas) (1.3.5)\n",
            "Requirement already satisfied: fiona>=1.8 in /usr/local/lib/python3.7/dist-packages (from geopandas) (1.8.21)\n",
            "Requirement already satisfied: pyproj>=2.2.0 in /usr/local/lib/python3.7/dist-packages (from geopandas) (3.2.1)\n",
            "Requirement already satisfied: setuptools in /usr/local/lib/python3.7/dist-packages (from fiona>=1.8->geopandas) (57.4.0)\n",
            "Requirement already satisfied: six>=1.7 in /usr/local/lib/python3.7/dist-packages (from fiona>=1.8->geopandas) (1.15.0)\n",
            "Requirement already satisfied: cligj>=0.5 in /usr/local/lib/python3.7/dist-packages (from fiona>=1.8->geopandas) (0.7.2)\n",
            "Requirement already satisfied: click>=4.0 in /usr/local/lib/python3.7/dist-packages (from fiona>=1.8->geopandas) (7.1.2)\n",
            "Requirement already satisfied: attrs>=17 in /usr/local/lib/python3.7/dist-packages (from fiona>=1.8->geopandas) (21.4.0)\n",
            "Requirement already satisfied: click-plugins>=1.0 in /usr/local/lib/python3.7/dist-packages (from fiona>=1.8->geopandas) (1.1.1)\n",
            "Requirement already satisfied: certifi in /usr/local/lib/python3.7/dist-packages (from fiona>=1.8->geopandas) (2021.10.8)\n",
            "Requirement already satisfied: munch in /usr/local/lib/python3.7/dist-packages (from fiona>=1.8->geopandas) (2.5.0)\n",
            "Requirement already satisfied: pytz>=2017.3 in /usr/local/lib/python3.7/dist-packages (from pandas>=0.25.0->geopandas) (2018.9)\n",
            "Requirement already satisfied: numpy>=1.17.3 in /usr/local/lib/python3.7/dist-packages (from pandas>=0.25.0->geopandas) (1.21.5)\n",
            "Requirement already satisfied: python-dateutil>=2.7.3 in /usr/local/lib/python3.7/dist-packages (from pandas>=0.25.0->geopandas) (2.8.2)\n"
          ]
        }
      ]
    },
    {
      "cell_type": "code",
      "execution_count": 7,
      "metadata": {
        "id": "KIEp-lZUvpgK"
      },
      "outputs": [],
      "source": [
        "# import all necesary libraries\n",
        "import numpy as np\n",
        "import pandas as pd\n",
        "import matplotlib.pyplot as plt\n",
        "import matplotlib.ticker as ticker\n",
        "import matplotlib.patches as mpatches\n",
        "%matplotlib inline\n",
        "import seaborn as sns\n",
        "import calendar\n",
        "import plotly as pt\n",
        "from plotly import graph_objs as go\n",
        "import plotly.express as px\n",
        "import plotly.figure_factory as ff\n",
        "from pylab import *\n",
        "import matplotlib.patheffects as PathEffects\n",
        "\n",
        "import descartes\n",
        "import geopandas as gpd\n",
        "from Levenshtein import distance\n",
        "from itertools import product\n",
        "from fuzzywuzzy import fuzz\n",
        "from fuzzywuzzy import process\n",
        "from scipy.spatial.distance import pdist, squareform\n",
        "from shapely.geometry import Point, Polygon\n",
        "\n",
        "import geoplot\n",
        "from geopy.geocoders import Nominatim\n",
        "\n",
        "import warnings\n",
        "warnings.filterwarnings('ignore')\n",
        "\n",
        "plt.rcParams['font.family'] = \"Microsoft JhengHei UI Light\"\n",
        "plt.rcParams['font.serif'] = [\"Microsoft JhengHei UI Light\"]"
      ]
    },
    {
      "cell_type": "code",
      "source": [
        "import opendatasets as od\n",
        "\n",
        "download_url = 'https://www.kaggle.com/sobhanmoosavi/us-accidents'\n",
        "\n",
        "od.download(download_url)"
      ],
      "metadata": {
        "colab": {
          "base_uri": "https://localhost:8080/"
        },
        "id": "UEfX-8kK2gCc",
        "outputId": "aa76c619-79ed-4336-8b78-d1cab8505cd8"
      },
      "execution_count": 8,
      "outputs": [
        {
          "output_type": "stream",
          "name": "stdout",
          "text": [
            "Skipping, found downloaded files in \"./us-accidents\" (use force=True to force download)\n"
          ]
        }
      ]
    },
    {
      "cell_type": "code",
      "source": [
        "# read & load the dataset into pandas dataframe\n",
        "df = pd.read_csv('/content/us-accidents/US_Accidents_Dec20_updated.csv')"
      ],
      "metadata": {
        "id": "hXuZgg-c1Mft"
      },
      "execution_count": 9,
      "outputs": []
    },
    {
      "cell_type": "code",
      "source": [
        "# check the no. of columns & rows\n",
        "print('The Dataset Contains, Rows: {:,d} & Columns: {}'.format(df.shape[0], df.shape[1]))"
      ],
      "metadata": {
        "colab": {
          "base_uri": "https://localhost:8080/"
        },
        "id": "wH0ib75q3hGR",
        "outputId": "2c2eb7ab-9572-4796-8ac8-2d1397d0a20d"
      },
      "execution_count": 10,
      "outputs": [
        {
          "output_type": "stream",
          "name": "stdout",
          "text": [
            "The Dataset Contains, Rows: 1,516,064 & Columns: 47\n"
          ]
        }
      ]
    },
    {
      "cell_type": "code",
      "source": [
        "# convert the Start_Time & End_Time Variable into Datetime Feature\n",
        "df.Start_Time = pd.to_datetime(df.Start_Time)\n",
        "df.End_Time = pd.to_datetime(df.End_Time)"
      ],
      "metadata": {
        "id": "-r487uo13kcy"
      },
      "execution_count": 11,
      "outputs": []
    },
    {
      "cell_type": "markdown",
      "source": [
        "#Analysis based off of location "
      ],
      "metadata": {
        "id": "19p9_E-t4K_9"
      }
    },
    {
      "cell_type": "code",
      "source": [
        "# create a dataframe of city and their corresponding accident cases\n",
        "city_df = pd.DataFrame(df['City'].value_counts()).reset_index().rename(columns={'index':'City', 'City':'Cases'})\n"
      ],
      "metadata": {
        "id": "om3Bnlj04JjH"
      },
      "execution_count": 12,
      "outputs": []
    },
    {
      "cell_type": "code",
      "source": [
        "top_10_cities = pd.DataFrame(city_df.head(10))"
      ],
      "metadata": {
        "id": "-wgnNiUy4Un2"
      },
      "execution_count": 13,
      "outputs": []
    },
    {
      "cell_type": "code",
      "source": [
        "fig, ax = plt.subplots(figsize = (12,7), dpi = 80)\n",
        "\n",
        "cmap = cm.get_cmap('rainbow', 10)   \n",
        "clrs = [matplotlib.colors.rgb2hex(cmap(i)) for i in range(cmap.N)]\n",
        "\n",
        "ax=sns.barplot(y=top_10_cities['Cases'], x=top_10_cities['City'], palette='rainbow')\n",
        "\n",
        "total = sum(city_df['Cases'])\n",
        "for i in ax.patches:\n",
        "    ax.text(i.get_x()+.03, i.get_height()-2500, \\\n",
        "            str(round((i.get_height()/total)*100, 2))+'%', fontsize=15, weight='bold',\n",
        "                color='white')\n",
        "\n",
        "plt.title('\\nTop 10 Cities in US with most no. of \\nRoad Accident Cases (2016-2020)\\n', size=20, color='grey')\n",
        "\n",
        "plt.rcParams['font.family'] = \"Microsoft JhengHei UI Light\"\n",
        "plt.rcParams['font.serif'] = [\"Microsoft JhengHei UI Light\"]\n",
        "\n",
        "plt.ylim(1000, 50000)\n",
        "plt.xticks(rotation=10, fontsize=12)\n",
        "plt.yticks(fontsize=12)\n",
        "\n",
        "ax.set_xlabel('\\nCities\\n', fontsize=15, color='grey')\n",
        "ax.set_ylabel('\\nAccident Cases\\n', fontsize=15, color='grey')\n",
        "\n",
        "for i in ['bottom', 'left']:\n",
        "    ax.spines[i].set_color('white')\n",
        "    ax.spines[i].set_linewidth(1.5)\n",
        "    \n",
        "right_side = ax.spines[\"right\"]\n",
        "right_side.set_visible(False)\n",
        "top_side = ax.spines[\"top\"]\n",
        "top_side.set_visible(False)\n",
        "\n",
        "ax.set_axisbelow(True)\n",
        "ax.grid(color='#b2d6c7', linewidth=1, axis='y', alpha=.3)\n",
        "MA = mpatches.Patch(color=clrs[0], label='City with Maximum\\n no. of Road Accidents')\n",
        "ax.legend(handles=[MA], prop={'size': 10.5}, loc='best', borderpad=1, \n",
        "          labelcolor=clrs[0], edgecolor='white');\n",
        "plt.show()\n"
      ],
      "metadata": {
        "colab": {
          "base_uri": "https://localhost:8080/",
          "height": 679
        },
        "id": "D2sZee7w4fRe",
        "outputId": "fb69d562-5c53-4ada-b43a-09047e800f16"
      },
      "execution_count": 14,
      "outputs": [
        {
          "output_type": "stream",
          "name": "stderr",
          "text": [
            "findfont: Font family ['Microsoft JhengHei UI Light'] not found. Falling back to DejaVu Sans.\n",
            "findfont: Font family ['Microsoft JhengHei UI Light'] not found. Falling back to DejaVu Sans.\n",
            "findfont: Font family ['Microsoft JhengHei UI Light'] not found. Falling back to DejaVu Sans.\n",
            "findfont: Font family ['Microsoft JhengHei UI Light'] not found. Falling back to DejaVu Sans.\n",
            "findfont: Font family ['Microsoft JhengHei UI Light'] not found. Falling back to DejaVu Sans.\n"
          ]
        },
        {
          "output_type": "display_data",
          "data": {
            "image/png": "[encoded data removed]",
            "text/plain": [
              "<Figure size 960x560 with 1 Axes>"
            ]
          },
          "metadata": {
            "needs_background": "light"
          }
        }
      ]
    },
    {
      "cell_type": "markdown",
      "source": [
        "- Los angeles has the highest # of road accidents (2.64%)\n",
        "- Miami has the seconnd highest number of road accidents (2.39%)\n",
        "- Around 14% accident records of past 5 years are only from these 10 cities out of 10,657 cities in US (as per the dataset)."
      ],
      "metadata": {
        "id": "vrJ8RwlT6MQz"
      }
    },
    {
      "cell_type": "code",
      "source": [
        "hightest_cases = city_df.Cases[0]\n",
        "print(round(hightest_cases/5))\n",
        "print(round(hightest_cases/(5*365)))"
      ],
      "metadata": {
        "colab": {
          "base_uri": "https://localhost:8080/"
        },
        "id": "sv7EnV8F4jFV",
        "outputId": "4a96a727-9c25-443b-f7f2-31a4101109a8"
      },
      "execution_count": 15,
      "outputs": [
        {
          "output_type": "stream",
          "name": "stdout",
          "text": [
            "7997\n",
            "22\n"
          ]
        }
      ]
    },
    {
      "cell_type": "markdown",
      "source": [
        "- In past 5 years (2016-2020) yearly 7,997 road accidents (average) happened in Los Angeles.\n",
        "\n",
        "- In Los Angeles averagely in every 12 hours 11 accidents occurred."
      ],
      "metadata": {
        "id": "RR08IrID6pLd"
      }
    },
    {
      "cell_type": "code",
      "source": [
        "# US States\n",
        "states = gpd.read_file('/content/us-accidents/US_Accidents_Dec20_updated.csv')\n",
        "\n",
        "def lat(city):\n",
        "    address=city\n",
        "    geolocator = Nominatim(user_agent=\"Your_Name\")\n",
        "    location = geolocator.geocode(address)\n",
        "    return (location.latitude)\n",
        "\n",
        "def lng(city):\n",
        "    address=city\n",
        "    geolocator = Nominatim(user_agent=\"Your_Name\")\n",
        "    location = geolocator.geocode(address)\n",
        "    return (location.longitude)\n",
        "\n",
        "# list of top 10 cities\n",
        "top_ten_city_list = list(city_df.City.head(10))\n",
        "\n",
        "top_ten_city_lat_dict = {}\n",
        "top_ten_city_lng_dict = {}\n",
        "for i in top_ten_city_list:\n",
        "    top_ten_city_lat_dict[i] = lat(i)\n",
        "    top_ten_city_lng_dict[i] = lng(i)\n",
        "    \n",
        "top_10_cities_df = df[df['City'].isin(list(top_10_cities.City))]\n",
        "\n",
        "top_10_cities_df['New_Start_Lat'] = top_10_cities_df['City'].map(top_ten_city_lat_dict)\n",
        "top_10_cities_df['New_Start_Lng'] = top_10_cities_df['City'].map(top_ten_city_lng_dict)"
      ],
      "metadata": {
        "colab": {
          "base_uri": "https://localhost:8080/",
          "height": 407
        },
        "id": "wIcYvqF46mBE",
        "outputId": "164f1404-c446-42f4-dde0-2cdce9b8b36c"
      },
      "execution_count": 16,
      "outputs": [
        {
          "output_type": "error",
          "ename": "KeyboardInterrupt",
          "evalue": "ignored",
          "traceback": [
            "\u001b[0;31m---------------------------------------------------------------------------\u001b[0m",
            "\u001b[0;31mKeyboardInterrupt\u001b[0m                         Traceback (most recent call last)",
            "\u001b[0;32m<ipython-input-16-ef623a2aa565>\u001b[0m in \u001b[0;36m<module>\u001b[0;34m()\u001b[0m\n\u001b[1;32m      1\u001b[0m \u001b[0;31m# US States\u001b[0m\u001b[0;34m\u001b[0m\u001b[0;34m\u001b[0m\u001b[0;34m\u001b[0m\u001b[0m\n\u001b[0;32m----> 2\u001b[0;31m \u001b[0mstates\u001b[0m \u001b[0;34m=\u001b[0m \u001b[0mgpd\u001b[0m\u001b[0;34m.\u001b[0m\u001b[0mread_file\u001b[0m\u001b[0;34m(\u001b[0m\u001b[0;34m'/content/us-accidents/US_Accidents_Dec20_updated.csv'\u001b[0m\u001b[0;34m)\u001b[0m\u001b[0;34m\u001b[0m\u001b[0;34m\u001b[0m\u001b[0m\n\u001b[0m\u001b[1;32m      3\u001b[0m \u001b[0;34m\u001b[0m\u001b[0m\n\u001b[1;32m      4\u001b[0m \u001b[0;32mdef\u001b[0m \u001b[0mlat\u001b[0m\u001b[0;34m(\u001b[0m\u001b[0mcity\u001b[0m\u001b[0;34m)\u001b[0m\u001b[0;34m:\u001b[0m\u001b[0;34m\u001b[0m\u001b[0;34m\u001b[0m\u001b[0m\n\u001b[1;32m      5\u001b[0m     \u001b[0maddress\u001b[0m\u001b[0;34m=\u001b[0m\u001b[0mcity\u001b[0m\u001b[0;34m\u001b[0m\u001b[0;34m\u001b[0m\u001b[0m\n",
            "\u001b[0;32m/usr/local/lib/python3.7/dist-packages/geopandas/io/file.py\u001b[0m in \u001b[0;36m_read_file\u001b[0;34m(filename, bbox, mask, rows, **kwargs)\u001b[0m\n\u001b[1;32m    243\u001b[0m \u001b[0;34m\u001b[0m\u001b[0m\n\u001b[1;32m    244\u001b[0m             return GeoDataFrame.from_features(\n\u001b[0;32m--> 245\u001b[0;31m                 \u001b[0mf_filt\u001b[0m\u001b[0;34m,\u001b[0m \u001b[0mcrs\u001b[0m\u001b[0;34m=\u001b[0m\u001b[0mcrs\u001b[0m\u001b[0;34m,\u001b[0m \u001b[0mcolumns\u001b[0m\u001b[0;34m=\u001b[0m\u001b[0mcolumns\u001b[0m \u001b[0;34m+\u001b[0m \u001b[0;34m[\u001b[0m\u001b[0;34m\"geometry\"\u001b[0m\u001b[0;34m]\u001b[0m\u001b[0;34m\u001b[0m\u001b[0;34m\u001b[0m\u001b[0m\n\u001b[0m\u001b[1;32m    246\u001b[0m             )\n\u001b[1;32m    247\u001b[0m \u001b[0;34m\u001b[0m\u001b[0m\n",
            "\u001b[0;32m/usr/local/lib/python3.7/dist-packages/geopandas/geodataframe.py\u001b[0m in \u001b[0;36mfrom_features\u001b[0;34m(cls, features, crs, columns)\u001b[0m\n\u001b[1;32m    598\u001b[0m \u001b[0;34m\u001b[0m\u001b[0m\n\u001b[1;32m    599\u001b[0m         \u001b[0mrows\u001b[0m \u001b[0;34m=\u001b[0m \u001b[0;34m[\u001b[0m\u001b[0;34m]\u001b[0m\u001b[0;34m\u001b[0m\u001b[0;34m\u001b[0m\u001b[0m\n\u001b[0;32m--> 600\u001b[0;31m         \u001b[0;32mfor\u001b[0m \u001b[0mfeature\u001b[0m \u001b[0;32min\u001b[0m \u001b[0mfeatures_lst\u001b[0m\u001b[0;34m:\u001b[0m\u001b[0;34m\u001b[0m\u001b[0;34m\u001b[0m\u001b[0m\n\u001b[0m\u001b[1;32m    601\u001b[0m             \u001b[0;31m# load geometry\u001b[0m\u001b[0;34m\u001b[0m\u001b[0;34m\u001b[0m\u001b[0;34m\u001b[0m\u001b[0m\n\u001b[1;32m    602\u001b[0m             \u001b[0;32mif\u001b[0m \u001b[0mhasattr\u001b[0m\u001b[0;34m(\u001b[0m\u001b[0mfeature\u001b[0m\u001b[0;34m,\u001b[0m \u001b[0;34m\"__geo_interface__\"\u001b[0m\u001b[0;34m)\u001b[0m\u001b[0;34m:\u001b[0m\u001b[0;34m\u001b[0m\u001b[0;34m\u001b[0m\u001b[0m\n",
            "\u001b[0;31mKeyboardInterrupt\u001b[0m: "
          ]
        }
      ]
    },
    {
      "cell_type": "code",
      "source": [
        ""
      ],
      "metadata": {
        "id": "paE-tNWy6yNt"
      },
      "execution_count": null,
      "outputs": []
    }
  ]
}